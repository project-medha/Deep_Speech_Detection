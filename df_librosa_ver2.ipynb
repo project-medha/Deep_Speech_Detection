{
 "cells": [
  {
   "cell_type": "code",
   "execution_count": 1,
   "metadata": {},
   "outputs": [],
   "source": [
    "#importing necessary libraries\n",
    "import os\n",
    "import numpy as np\n",
    "import pandas as pd\n",
    "import librosa\n",
    "import tensorflow as tf\n",
    "from sklearn.model_selection import train_test_split\n",
    "from sklearn.preprocessing import LabelEncoder, StandardScaler\n",
    "from tensorflow.keras.utils import to_categorical\n",
    "from tensorflow.keras.layers import Conv1D, MaxPooling1D, Flatten, Dense, Dropout\n",
    "from tensorflow.keras.models import Sequential\n",
    "import random\n"
   ]
  },
  {
   "cell_type": "code",
   "execution_count": 2,
   "metadata": {},
   "outputs": [],
   "source": [
    "#initializing the constants \n",
    "sample_rate = 22050  \n",
    "segment_duration = 3 \n",
    "overlap = 1 \n",
    "#declaring the file path #replace with your respective dataset location\n",
    "real_audio_path = \"C:\\\\Users\\\\91839\\\\Projects\\\\Deepfakevoice_detection\\\\KAGGLE\\\\AUDIO\\\\REAL\"\n",
    "fake_audio_path= \"C:\\\\Users\\\\91839\\\\Projects\\\\Deepfakevoice_detection\\\\KAGGLE\\\\AUDIO\\\\FAKE\""
   ]
  },
  {
   "cell_type": "markdown",
   "metadata": {},
   "source": [
    "# Feature Extraction "
   ]
  },
  {
   "cell_type": "code",
   "execution_count": 7,
   "metadata": {},
   "outputs": [],
   "source": [
    "#declaring function to add noise \n",
    "def augment_audio_add_noise(audio, noise_factor=0.005):\n",
    "    noise = np.random.randn(len(audio))\n",
    "    augmented_audio = audio + noise_factor * noise\n",
    "    return augmented_audio\n"
   ]
  },
  {
   "cell_type": "code",
   "execution_count": 8,
   "metadata": {},
   "outputs": [],
   "source": [
    "#function to extract audio files from dataset \n",
    "#pass the audio to noise_augmention method \n",
    "#collect the features of audio by passing it to segment_and_extract_features function\n",
    "def load_audio_files(folder_path, label, sr=sample_rate, augment=False):\n",
    "    data = []\n",
    "    for filename in os.listdir(folder_path):\n",
    "        file_path = os.path.join(folder_path, filename)\n",
    "        if filename.endswith('.wav'):\n",
    "            audio, _ = librosa.load(file_path, sr=sr)\n",
    "            \n",
    "            if augment and random.random() < 0.5:\n",
    "                audio = augment_audio_add_noise(audio, noise_factor=0.005)\n",
    "            \n",
    "            data.extend(segment_and_extract_features(audio, label, sr))\n",
    "    return data\n"
   ]
  },
  {
   "cell_type": "code",
   "execution_count": 10,
   "metadata": {},
   "outputs": [],
   "source": [
    "#declaring the method for segmentation and feature extraction of audio file\n",
    "def segment_and_extract_features(audio, label, sr):\n",
    "\n",
    "    features = []\n",
    "    segment_samples = int(segment_duration * sr)\n",
    "    overlap_samples = int(overlap * sr)\n",
    "    num_segments = (len(audio) - segment_samples) // (segment_samples - overlap_samples) + 1\n",
    "    \n",
    "    for i in range(num_segments):\n",
    "        start = i * (segment_samples - overlap_samples)\n",
    "        end = start + segment_samples\n",
    "        segment = audio[start:end]\n",
    "        \n",
    "        mfccs = librosa.feature.mfcc(y=segment, sr=sr, n_mfcc=13)\n",
    "        chroma = librosa.feature.chroma_stft(y=segment, sr=sr)\n",
    "        spectral_centroid = librosa.feature.spectral_centroid(y=segment, sr=sr)\n",
    "        spectral_bandwidth = librosa.feature.spectral_bandwidth(y=segment, sr=sr)\n",
    "        rolloff = librosa.feature.spectral_rolloff(y=segment, sr=sr)\n",
    "        zero_crossing_rate = librosa.feature.zero_crossing_rate(y=segment)\n",
    "        \n",
    "        feature_dict = {\n",
    "            'mfcc_mean': np.mean(mfccs, axis=1),\n",
    "            'mfcc_std': np.std(mfccs, axis=1),\n",
    "            'chroma': np.mean(chroma, axis=1),\n",
    "            'spectral_centroid': np.mean(spectral_centroid),\n",
    "            'spectral_bandwidth': np.mean(spectral_bandwidth),\n",
    "            'rolloff': np.mean(rolloff),\n",
    "            'zero_crossing_rate': np.mean(zero_crossing_rate),\n",
    "            'label': label\n",
    "        }\n",
    "        features.append(feature_dict)\n",
    "    return features\n"
   ]
  },
  {
   "cell_type": "code",
   "execution_count": 11,
   "metadata": {},
   "outputs": [],
   "source": [
    "#calling load_audio_file by passing file path and collecting the data of real and fake samples\n",
    "real_data = load_audio_files(real_audio_path, label='Real', augment=False)\n",
    "fake_data = load_audio_files(fake_audio_path, label='Fake', augment=True)\n",
    "all_data = real_data + fake_data\n"
   ]
  },
  {
   "cell_type": "code",
   "execution_count": 12,
   "metadata": {},
   "outputs": [],
   "source": [
    "#transforming the combined data of real and fake audio samples as dataframe  \n",
    "# storing it in json format for retrieval for future training \n",
    "df = pd.DataFrame(all_data)\n",
    "df.to_json('Lib_features_raw.json',index=False)\n",
    "#df=pd.read_json('Lib_features_raw.json')"
   ]
  },
  {
   "cell_type": "markdown",
   "metadata": {},
   "source": [
    "# Feature Engineering"
   ]
  },
  {
   "cell_type": "code",
   "execution_count": 13,
   "metadata": {},
   "outputs": [],
   "source": [
    "#feature engineering the dataframe for crnn-model\n",
    "X = pd.concat([\n",
    "    pd.DataFrame(df['mfcc_mean'].tolist()),\n",
    "    pd.DataFrame(df['mfcc_std'].tolist()),\n",
    "    pd.DataFrame(df['chroma'].tolist()),\n",
    "    df[['spectral_centroid', 'spectral_bandwidth', 'rolloff', 'zero_crossing_rate']]\n",
    "], axis=1)\n",
    "y = df['label']\n",
    "\n",
    "label_encoder = LabelEncoder()\n",
    "y = label_encoder.fit_transform(y)\n",
    "y = to_categorical(y)\n"
   ]
  },
  {
   "cell_type": "code",
   "execution_count": 14,
   "metadata": {},
   "outputs": [],
   "source": [
    "\n",
    "# Ensuring all column names are strings\n",
    "X.columns = X.columns.astype(str)\n",
    "\n",
    "X_train, X_test, y_train, y_test = train_test_split(X, y, test_size=0.2, random_state=42)\n",
    "scaler = StandardScaler()\n",
    "X_train = scaler.fit_transform(X_train)\n",
    "X_test = scaler.transform(X_test)\n",
    "\n",
    "X_train = X_train.reshape(X_train.shape[0], X_train.shape[1], 1)\n",
    "X_test = X_test.reshape(X_test.shape[0], X_test.shape[1], 1)\n"
   ]
  },
  {
   "cell_type": "markdown",
   "metadata": {},
   "source": [
    "# Model Designing and Training"
   ]
  },
  {
   "cell_type": "code",
   "execution_count": 15,
   "metadata": {},
   "outputs": [],
   "source": [
    "# creating model with baseline convolutional layer,maxpooling,dropout layers\n",
    "model = Sequential([\n",
    "    Conv1D(64, 3, activation='relu', input_shape=(X_train.shape[1], 1)),\n",
    "    MaxPooling1D(2),\n",
    "    Dropout(0.2),\n",
    "    Conv1D(128, 3, activation='relu'),\n",
    "    MaxPooling1D(2),\n",
    "    Dropout(0.2),\n",
    "    Flatten(),\n",
    "    Dense(64, activation='relu'),\n",
    "    Dropout(0.5),\n",
    "    Dense(y.shape[1], activation='softmax')\n",
    "])\n"
   ]
  },
  {
   "cell_type": "code",
   "execution_count": 16,
   "metadata": {},
   "outputs": [],
   "source": [
    "#compiling with adam optimizer with accuracy metrics\n",
    "model.compile(optimizer='adam', loss='categorical_crossentropy', metrics=['accuracy'])\n"
   ]
  },
  {
   "cell_type": "code",
   "execution_count": 17,
   "metadata": {},
   "outputs": [
    {
     "name": "stdout",
     "output_type": "stream",
     "text": [
      "Epoch 1/20\n",
      "373/373 [==============================] - 6s 11ms/step - loss: 0.2449 - accuracy: 0.9096 - val_loss: 0.1337 - val_accuracy: 0.9410\n",
      "Epoch 2/20\n",
      "373/373 [==============================] - 3s 9ms/step - loss: 0.1316 - accuracy: 0.9458 - val_loss: 0.0904 - val_accuracy: 0.9651\n",
      "Epoch 3/20\n",
      "373/373 [==============================] - 3s 8ms/step - loss: 0.0975 - accuracy: 0.9614 - val_loss: 0.0774 - val_accuracy: 0.9702\n",
      "Epoch 4/20\n",
      "373/373 [==============================] - 3s 9ms/step - loss: 0.0862 - accuracy: 0.9668 - val_loss: 0.0645 - val_accuracy: 0.9802\n",
      "Epoch 5/20\n",
      "373/373 [==============================] - 3s 8ms/step - loss: 0.0762 - accuracy: 0.9710 - val_loss: 0.0595 - val_accuracy: 0.9796\n",
      "Epoch 6/20\n",
      "373/373 [==============================] - 3s 8ms/step - loss: 0.0677 - accuracy: 0.9725 - val_loss: 0.0558 - val_accuracy: 0.9762\n",
      "Epoch 7/20\n",
      "373/373 [==============================] - 3s 8ms/step - loss: 0.0622 - accuracy: 0.9769 - val_loss: 0.0502 - val_accuracy: 0.9789\n",
      "Epoch 8/20\n",
      "373/373 [==============================] - 3s 8ms/step - loss: 0.0556 - accuracy: 0.9795 - val_loss: 0.0496 - val_accuracy: 0.9802\n",
      "Epoch 9/20\n",
      "373/373 [==============================] - 3s 8ms/step - loss: 0.0514 - accuracy: 0.9796 - val_loss: 0.0442 - val_accuracy: 0.9839\n",
      "Epoch 10/20\n",
      "373/373 [==============================] - 3s 8ms/step - loss: 0.0483 - accuracy: 0.9801 - val_loss: 0.0408 - val_accuracy: 0.9846\n",
      "Epoch 11/20\n",
      "373/373 [==============================] - 3s 8ms/step - loss: 0.0475 - accuracy: 0.9794 - val_loss: 0.0430 - val_accuracy: 0.9816\n",
      "Epoch 12/20\n",
      "373/373 [==============================] - 3s 8ms/step - loss: 0.0405 - accuracy: 0.9839 - val_loss: 0.0451 - val_accuracy: 0.9842\n",
      "Epoch 13/20\n",
      "373/373 [==============================] - 3s 8ms/step - loss: 0.0421 - accuracy: 0.9842 - val_loss: 0.0436 - val_accuracy: 0.9832\n"
     ]
    }
   ],
   "source": [
    "#early stopping introduced \n",
    "early_stopping = tf.keras.callbacks.EarlyStopping(monitor='val_loss', patience=3, restore_best_weights=True)\n",
    "# Training the model with tuned hyperparameters\n",
    "history = model.fit(X_train, y_train, validation_data=(X_test, y_test), epochs=20, batch_size=32, callbacks=[early_stopping])"
   ]
  },
  {
   "cell_type": "code",
   "execution_count": 18,
   "metadata": {},
   "outputs": [
    {
     "name": "stdout",
     "output_type": "stream",
     "text": [
      "94/94 [==============================] - 0s 2ms/step - loss: 0.0408 - accuracy: 0.9846\n",
      "Test Loss: 0.0408, Test Accuracy: 0.9846\n"
     ]
    }
   ],
   "source": [
    "#displaying the loss and accuracy\n",
    "loss, accuracy = model.evaluate(X_test, y_test)\n",
    "print(f\"Test Loss: {loss:.4f}, Test Accuracy: {accuracy:.4f}\")"
   ]
  },
  {
   "cell_type": "markdown",
   "metadata": {},
   "source": [
    "# Confusion Matrix Visualization "
   ]
  },
  {
   "cell_type": "code",
   "execution_count": 19,
   "metadata": {},
   "outputs": [],
   "source": [
    "# importing the modules for confusion matrix visulization\n",
    "from sklearn.metrics import accuracy_score, classification_report, confusion_matrix\n",
    "import matplotlib.pyplot as plt\n",
    "import seaborn as sns\n"
   ]
  },
  {
   "cell_type": "code",
   "execution_count": 20,
   "metadata": {},
   "outputs": [
    {
     "name": "stdout",
     "output_type": "stream",
     "text": [
      "94/94 [==============================] - 1s 5ms/step\n"
     ]
    }
   ],
   "source": [
    "#testing the model on sample dataset \n",
    "y_pred = model.predict(X_test)\n",
    "y_pred_classes = np.argmax(y_pred, axis=1)\n",
    "y_true_classes = np.argmax(y_test, axis=1)\n"
   ]
  },
  {
   "cell_type": "code",
   "execution_count": 21,
   "metadata": {},
   "outputs": [
    {
     "name": "stdout",
     "output_type": "stream",
     "text": [
      "Accuracy: 0.9846\n",
      "Classification Report:\n",
      "               precision    recall  f1-score   support\n",
      "\n",
      "           0       0.99      0.99      0.99      2605\n",
      "           1       0.94      0.94      0.94       378\n",
      "\n",
      "    accuracy                           0.98      2983\n",
      "   macro avg       0.97      0.96      0.97      2983\n",
      "weighted avg       0.98      0.98      0.98      2983\n",
      "\n"
     ]
    }
   ],
   "source": [
    "# displaying the accuracy and Classification report\n",
    "accuracy = accuracy_score(y_true_classes, y_pred_classes)\n",
    "print(f'Accuracy: {accuracy:.4f}')\n",
    "\n",
    "print(\"Classification Report:\\n\", classification_report(y_true_classes, y_pred_classes))\n",
    "\n",
    "conf_matrix = confusion_matrix(y_true_classes, y_pred_classes)\n"
   ]
  },
  {
   "cell_type": "code",
   "execution_count": 22,
   "metadata": {},
   "outputs": [
    {
     "data": {
      "image/png": "[encoded data removed]",
      "text/plain": [
       "<Figure size 800x600 with 2 Axes>"
      ]
     },
     "metadata": {},
     "output_type": "display_data"
    }
   ],
   "source": [
    "#display the confusion matrix on the plot\n",
    "plt.figure(figsize=(8, 6))\n",
    "sns.heatmap(conf_matrix, annot=True, fmt='d', cmap='Blues', xticklabels=label_encoder.classes_, yticklabels=label_encoder.classes_)\n",
    "plt.xlabel('Predicted Label')\n",
    "plt.ylabel('True Label')\n",
    "plt.title('Confusion Matrix')\n",
    "plt.show()"
   ]
  },
  {
   "cell_type": "markdown",
   "metadata": {},
   "source": [
    "# Audio Sample Classifier - PART 1\n",
    "The following method will analyze the full audio and return the classification as Real or fake. \n",
    "It will work on mono-voice sample only."
   ]
  },
  {
   "cell_type": "code",
   "execution_count": 33,
   "metadata": {},
   "outputs": [],
   "source": [
    "# declaring the method for taking a mono voice sample and classifying it as real and fake\n",
    "def classify_full_audio(model, audio, sr=sample_rate):\n",
    "    segments = segment_and_extract_features(audio, label=None, sr=sr)\n",
    "    \n",
    "    segment_features = pd.concat([\n",
    "        pd.DataFrame([seg['mfcc_mean'] for seg in segments]),\n",
    "        pd.DataFrame([seg['mfcc_std'] for seg in segments]),\n",
    "        pd.DataFrame([seg['chroma'] for seg in segments]),\n",
    "        pd.DataFrame([[\n",
    "            seg['spectral_centroid'], \n",
    "            seg['spectral_bandwidth'], \n",
    "            seg['rolloff'], \n",
    "            seg['zero_crossing_rate']] for seg in segments]\n",
    "        )\n",
    "    ], axis=1)\n",
    "    segment_features = scaler.transform(segment_features)\n",
    "    segment_features = segment_features.reshape(segment_features.shape[0], segment_features.shape[1], 1)\n",
    "    \n",
    "    # Predictions for each segment\n",
    "    segment_predictions = model.predict(segment_features)\n",
    "    segment_labels = np.argmax(segment_predictions, axis=1)  # Get class indices (0 for Real, 1 for Fake)\n",
    "    \n",
    "    # Classify the full audio\n",
    "    full_audio_prediction = np.argmax(np.bincount(segment_labels))\n",
    "    return label_encoder.inverse_transform([full_audio_prediction])[0]\n"
   ]
  },
  {
   "cell_type": "code",
   "execution_count": 34,
   "metadata": {},
   "outputs": [
    {
     "name": "stdout",
     "output_type": "stream",
     "text": [
      "1/1 [==============================] - 0s 35ms/step\n",
      "Full audio classification: Fake\n"
     ]
    },
    {
     "name": "stderr",
     "output_type": "stream",
     "text": [
      "c:\\Users\\91839\\Anaconda\\envs\\dfvoice\\lib\\site-packages\\sklearn\\utils\\validation.py:2739: UserWarning: X does not have valid feature names, but StandardScaler was fitted with feature names\n",
      "  warnings.warn(\n"
     ]
    }
   ],
   "source": [
    "\n",
    "# Example\n",
    "file_path = \"C:\\\\Users\\\\91839\\\\Projects\\\\Deepfakevoice_detection\\\\Fake_Sample1.wav\"\n",
    "audio, _ = librosa.load(file_path, sr=sample_rate)\n",
    "full_audio_classification = classify_full_audio(model, audio)\n",
    "print(f\"Full audio classification: {full_audio_classification}\")"
   ]
  },
  {
   "cell_type": "markdown",
   "metadata": {},
   "source": [
    "# Conversation Classifier - PART 2\n",
    "The following method will detect if any voice segment in audio is fake, and will return the suitable label instantly.  "
   ]
  },
  {
   "cell_type": "code",
   "execution_count": 61,
   "metadata": {},
   "outputs": [],
   "source": [
    "import librosa\n",
    "import numpy as np\n",
    "\n",
    "def classify_audio_in_segments(model, audio, sr=16000, segment_length=10):\n",
    "    \"\"\"\n",
    "    Classifies an audio file by dividing it into segments and predicting for each segment.\n",
    "\n",
    "    Args:\n",
    "        model: Trained classification model.\n",
    "        audio: Input audio as a NumPy array.\n",
    "        sr: Sampling rate (default: 16000).\n",
    "        segment_length: Length of each segment in seconds (default: 10).\n",
    "\n",
    "    Returns:\n",
    "        str: \"fake\" if any segment is classified as fake, otherwise \"real\".\n",
    "    \"\"\"\n",
    "    # Calculate segment length in samples\n",
    "    segment_samples = int(segment_length * sr)\n",
    "    \n",
    "    # Split the audio into 10-second segments\n",
    "    num_segments = len(audio) // segment_samples\n",
    "    is_fake = False\n",
    "    \n",
    "    for i in range(num_segments):\n",
    "        # Extract segment\n",
    "        start = i * segment_samples\n",
    "        end = start + segment_samples\n",
    "        segment = audio[start:end]\n",
    "        \n",
    "        # Extract features for the segment\n",
    "        segments_features = segment_and_extract_features(segment, label=None, sr=sr)\n",
    "        \n",
    "        # Prepare features for the model (similar to your code above)\n",
    "        features = pd.concat([\n",
    "            pd.DataFrame([seg['mfcc_mean'] for seg in segments_features]),\n",
    "            pd.DataFrame([seg['mfcc_std'] for seg in segments_features]),\n",
    "            pd.DataFrame([seg['chroma'] for seg in segments_features]),\n",
    "            pd.DataFrame([[\n",
    "                seg['spectral_centroid'], \n",
    "                seg['spectral_bandwidth'], \n",
    "                seg['rolloff'], \n",
    "                seg['zero_crossing_rate']] for seg in segments_features]\n",
    "            )\n",
    "        ], axis=1)\n",
    "\n",
    "        features = scaler.transform(features)\n",
    "        features = features.reshape(features.shape[0], features.shape[1], 1)\n",
    "        \n",
    "        # Predict using the model\n",
    "        predictions = model.predict(features)\n",
    "        segment_label = np.argmax(predictions, axis=1)  # 0 for Real, 1 for Fake\n",
    "        \n",
    "        # Check if any segment is \"fake\"\n",
    "        if 1 in segment_label:\n",
    "            is_fake = True\n",
    "            break  # No need to check further\n",
    "    \n",
    "    return \"fake\" if is_fake else \"real\"\n"
   ]
  },
  {
   "cell_type": "code",
   "execution_count": 63,
   "metadata": {},
   "outputs": [
    {
     "name": "stdout",
     "output_type": "stream",
     "text": [
      "1/1 [==============================] - 0s 39ms/step\n"
     ]
    },
    {
     "name": "stderr",
     "output_type": "stream",
     "text": [
      "c:\\Users\\91839\\Anaconda\\envs\\dfvoice\\lib\\site-packages\\sklearn\\utils\\validation.py:2739: UserWarning: X does not have valid feature names, but StandardScaler was fitted with feature names\n",
      "  warnings.warn(\n"
     ]
    },
    {
     "data": {
      "text/plain": [
       "'real'"
      ]
     },
     "execution_count": 63,
     "metadata": {},
     "output_type": "execute_result"
    }
   ],
   "source": [
    "file_path = \"C:\\\\Users\\\\91839\\\\Projects\\\\Deepfakevoice_detection\\\\Real_Sample1.wav\"\n",
    "audio, _ = librosa.load(file_path, sr=sample_rate)\n",
    "classify_audio_in_segments(model,audio)\n"
   ]
  }
 ],
 "metadata": {
  "kernelspec": {
   "display_name": "dfvoice",
   "language": "python",
   "name": "python3"
  },
  "language_info": {
   "codemirror_mode": {
    "name": "ipython",
    "version": 3
   },
   "file_extension": ".py",
   "mimetype": "text/x-python",
   "name": "python",
   "nbconvert_exporter": "python",
   "pygments_lexer": "ipython3",
   "version": "3.10.8"
  }
 },
 "nbformat": 4,
 "nbformat_minor": 2
}
